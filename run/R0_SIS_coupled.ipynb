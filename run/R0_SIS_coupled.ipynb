{
 "cells": [
  {
   "cell_type": "code",
   "execution_count": 1,
   "metadata": {},
   "outputs": [],
   "source": [
    "import sympy as sym\n",
    "import matplotlib.pyplot as plt\n",
    "import os"
   ]
  },
  {
   "cell_type": "code",
   "execution_count": 2,
   "metadata": {},
   "outputs": [
    {
     "name": "stdout",
     "output_type": "stream",
     "text": [
      "Flujos de entrada a la enfermedad\n",
      "\\left[\\begin{matrix}S_{c} \\beta \\left(I_{c} \\alpha + I_{d}\\right)\\\\S_{d} \\beta \\left(I_{c} \\alpha + I_{d}\\right)\\end{matrix}\\right]\n",
      "\n",
      "\n",
      "Flujos dentro de la enfermedad y de salidad\n",
      "\\left[\\begin{matrix}I_{c} \\gamma - I_{c} \\left(I_{c} p_{cc} - \\frac{I_{c} \\left(I_{c} p_{cc} + I_{d} p_{cd} + S_{c} \\left(- \\sigma_{c} \\left(S_{c} + S_{d}\\right) + t_{cc}\\right) + S_{d} \\left(- \\sigma_{c} \\left(S_{c} + S_{d}\\right) + t_{cd}\\right)\\right)}{I_{c} + I_{d}} + I_{d} p_{cd} - \\frac{I_{d} \\left(I_{c} p_{dc} + I_{d} p_{dd} + S_{c} \\left(- \\sigma_{d} \\left(I_{c} + I_{d}\\right) + t_{dc}\\right) + S_{d} \\left(- \\sigma_{d} \\left(I_{c} + I_{d}\\right) + t_{dd}\\right)\\right)}{I_{c} + I_{d}} + S_{c} \\left(- \\sigma_{c} \\left(S_{c} + S_{d}\\right) + t_{cc}\\right) + S_{d} \\left(- \\sigma_{c} \\left(S_{c} + S_{d}\\right) + t_{cd}\\right)\\right)\\\\I_{d} \\gamma - I_{d} \\left(I_{c} p_{dc} - \\frac{I_{c} \\left(I_{c} p_{cc} + I_{d} p_{cd} + S_{c} \\left(- \\sigma_{c} \\left(S_{c} + S_{d}\\right) + t_{cc}\\right) + S_{d} \\left(- \\sigma_{c} \\left(S_{c} + S_{d}\\right) + t_{cd}\\right)\\right)}{I_{c} + I_{d}} + I_{d} p_{dd} - \\frac{I_{d} \\left(I_{c} p_{dc} + I_{d} p_{dd} + S_{c} \\left(- \\sigma_{d} \\left(I_{c} + I_{d}\\right) + t_{dc}\\right) + S_{d} \\left(- \\sigma_{d} \\left(I_{c} + I_{d}\\right) + t_{dd}\\right)\\right)}{I_{c} + I_{d}} + S_{c} \\left(- \\sigma_{d} \\left(I_{c} + I_{d}\\right) + t_{dc}\\right) + S_{d} \\left(- \\sigma_{d} \\left(I_{c} + I_{d}\\right) + t_{dd}\\right)\\right)\\end{matrix}\\right]\n"
     ]
    }
   ],
   "source": [
    "S_c, S_d, I_c, I_d = sym.symbols('S_c S_d I_c I_d')\n",
    "beta, alpha, gamma = sym.symbols('beta alpha gamma')\n",
    "sigma_d, sigma_c = sym.symbols('sigma_d sigma_c')\n",
    "r_cc, r_cd, r_dc, r_dd = sym.symbols('r_cc, r_cd, r_dc, r_dd')\n",
    "s_cc, s_cd, s_dc, s_dd = sym.symbols('s_cc, s_cd, s_dc, s_dd')\n",
    "t_cc, t_cd, t_dc, t_dd = sym.symbols('t_cc, t_cd, t_dc, t_dd')\n",
    "p_cc, p_cd, p_dc, p_dd = sym.symbols('p_cc, p_cd, p_dc, p_dd')\n",
    "\n",
    "f_sc = r_cc*S_c + r_cd*S_d + (s_cc - sigma_c*(S_c + S_d))*I_c + (s_cd - sigma_c*(S_c + S_d))*I_d\n",
    "f_sd = r_dc*S_c + r_dd*S_d + (s_dc - sigma_d*(I_c + I_d))*I_c + (s_dd - sigma_d*(I_c + I_d))*I_d\n",
    "f_ic = (t_cc - sigma_c*(S_c + S_d))*S_c + (t_cd - sigma_c*(S_c+S_d))*S_d + p_cc*I_c + p_cd*I_d\n",
    "f_id = (t_dc - sigma_d*(I_c + I_d))*S_c + (t_dd - sigma_d*(I_c+I_d))*S_d + p_dc*I_c + p_dd*I_d\n",
    "\n",
    "fbar_s = f_sc*S_c/(S_c + S_d) + f_sd*S_d/(S_c + S_d) \n",
    "fbar_i = f_ic*I_c/(I_c + I_d) + f_id*I_d/(I_c + I_d)\n",
    "\n",
    "F = sym.Matrix([beta*S_c*(I_d + alpha*I_c), beta*S_d*(I_d + alpha*I_c)])\n",
    "V = sym.Matrix([gamma*I_c - I_c*(f_ic - fbar_i), gamma*I_d - I_d*(f_id - fbar_i)])\n",
    "\n",
    "print(f'Flujos de entrada a la enfermedad:')\n",
    "sym.print_latex(F)\n",
    "print('\\n')\n",
    "print(f'Flujos dentro de la enfermedad y de salidad:')\n",
    "sym.print_latex(V)\n"
   ]
  },
  {
   "cell_type": "markdown",
   "metadata": {},
   "source": [
    "Flujos de entrada a los cajones de la enfermedad:\n",
    "$$ F = \\left[\\begin{matrix}S_{c} \\beta \\left(I_{c} \\alpha + I_{d}\\right)\\\\S_{d} \\beta \\left(I_{c} \\alpha + I_{d}\\right)\\end{matrix}\\right]$$ \n",
    "\n",
    "Flujos de salida y movimientos dentro de la enfermedad:\n",
    "$$ V = \\left[\\begin{matrix}I_{c} \\gamma - I_{c} \\left(I_{c} p_{cc} - \\frac{I_{c} \\left(I_{c} p_{cc} + I_{d} p_{cd} + S_{c} \\left(- \\sigma_{c} \\left(S_{c} + S_{d}\\right) + t_{cc}\\right) + S_{d} \\left(- \\sigma_{c} \\left(S_{c} + S_{d}\\right) + t_{cd}\\right)\\right)}{I_{c} + I_{d}} + I_{d} p_{cd} - \\frac{I_{d} \\left(I_{c} p_{dc} + I_{d} p_{dd} + S_{c} \\left(- \\sigma_{d} \\left(I_{c} + I_{d}\\right) + t_{dc}\\right) + S_{d} \\left(- \\sigma_{d} \\left(I_{c} + I_{d}\\right) + t_{dd}\\right)\\right)}{I_{c} + I_{d}} + S_{c} \\left(- \\sigma_{c} \\left(S_{c} + S_{d}\\right) + t_{cc}\\right) + S_{d} \\left(- \\sigma_{c} \\left(S_{c} + S_{d}\\right) + t_{cd}\\right)\\right)\\\\I_{d} \\gamma - I_{d} \\left(I_{c} p_{dc} - \\frac{I_{c} \\left(I_{c} p_{cc} + I_{d} p_{cd} + S_{c} \\left(- \\sigma_{c} \\left(S_{c} + S_{d}\\right) + t_{cc}\\right) + S_{d} \\left(- \\sigma_{c} \\left(S_{c} + S_{d}\\right) + t_{cd}\\right)\\right)}{I_{c} + I_{d}} + I_{d} p_{dd} - \\frac{I_{d} \\left(I_{c} p_{dc} + I_{d} p_{dd} + S_{c} \\left(- \\sigma_{d} \\left(I_{c} + I_{d}\\right) + t_{dc}\\right) + S_{d} \\left(- \\sigma_{d} \\left(I_{c} + I_{d}\\right) + t_{dd}\\right)\\right)}{I_{c} + I_{d}} + S_{c} \\left(- \\sigma_{d} \\left(I_{c} + I_{d}\\right) + t_{dc}\\right) + S_{d} \\left(- \\sigma_{d} \\left(I_{c} + I_{d}\\right) + t_{dd}\\right)\\right)\\end{matrix}\\right] $$\n"
   ]
  },
  {
   "cell_type": "code",
   "execution_count": 3,
   "metadata": {},
   "outputs": [
    {
     "name": "stdout",
     "output_type": "stream",
     "text": [
      "Jacobiano de los Flujos de entrada a la enfermedad\n",
      "\\left[\\begin{matrix}S_{c} \\alpha \\beta & S_{c} \\beta\\\\S_{d} \\alpha \\beta & S_{d} \\beta\\end{matrix}\\right]\n",
      "\n",
      "\n",
      "Jacobiano de los Flujos dentro de la enfermedad y de salidad\n",
      "\\left[\\begin{matrix}\\frac{- I_{c}^{2} I_{d} S_{c} \\sigma_{d} - I_{c}^{2} I_{d} S_{d} \\sigma_{d} - I_{c}^{2} I_{d} p_{cc} + I_{c}^{2} I_{d} p_{dc} + I_{c}^{2} \\gamma - 2 I_{c} I_{d}^{2} S_{c} \\sigma_{d} - 2 I_{c} I_{d}^{2} S_{d} \\sigma_{d} - 2 I_{c} I_{d}^{2} p_{cc} + 2 I_{c} I_{d}^{2} p_{dc} + 2 I_{c} I_{d} \\gamma - I_{d}^{3} S_{c} \\sigma_{d} - I_{d}^{3} S_{d} \\sigma_{d} - I_{d}^{3} p_{cd} + I_{d}^{3} p_{dd} + I_{d}^{2} S_{c}^{2} \\sigma_{c} + 2 I_{d}^{2} S_{c} S_{d} \\sigma_{c} - I_{d}^{2} S_{c} t_{cc} + I_{d}^{2} S_{c} t_{dc} + I_{d}^{2} S_{d}^{2} \\sigma_{c} - I_{d}^{2} S_{d} t_{cd} + I_{d}^{2} S_{d} t_{dd} + I_{d}^{2} \\gamma}{I_{c}^{2} + 2 I_{c} I_{d} + I_{d}^{2}} & \\frac{I_{c} \\left(- I_{c} \\left(I_{c} p_{cc} + I_{d} p_{cd} - S_{c} \\left(\\sigma_{c} \\left(S_{c} + S_{d}\\right) - t_{cc}\\right) - S_{d} \\left(\\sigma_{c} \\left(S_{c} + S_{d}\\right) - t_{cd}\\right)\\right) - I_{d} \\left(I_{c} p_{dc} + I_{d} p_{dd} - S_{c} \\left(\\sigma_{d} \\left(I_{c} + I_{d}\\right) - t_{dc}\\right) - S_{d} \\left(\\sigma_{d} \\left(I_{c} + I_{d}\\right) - t_{dd}\\right)\\right) - p_{cd} \\left(I_{c} + I_{d}\\right)^{2} + \\left(I_{c} + I_{d}\\right) \\left(I_{c} p_{cd} + I_{c} p_{dc} + I_{d} p_{dd} - I_{d} \\left(S_{c} \\sigma_{d} + S_{d} \\sigma_{d} - p_{dd}\\right) - S_{c} \\left(\\sigma_{d} \\left(I_{c} + I_{d}\\right) - t_{dc}\\right) - S_{d} \\left(\\sigma_{d} \\left(I_{c} + I_{d}\\right) - t_{dd}\\right)\\right)\\right)}{\\left(I_{c} + I_{d}\\right)^{2}}\\\\\\frac{I_{d} \\left(- I_{c} \\left(I_{c} p_{cc} + I_{d} p_{cd} - S_{c} \\left(\\sigma_{c} \\left(S_{c} + S_{d}\\right) - t_{cc}\\right) - S_{d} \\left(\\sigma_{c} \\left(S_{c} + S_{d}\\right) - t_{cd}\\right)\\right) - I_{d} \\left(I_{c} p_{dc} + I_{d} p_{dd} - S_{c} \\left(\\sigma_{d} \\left(I_{c} + I_{d}\\right) - t_{dc}\\right) - S_{d} \\left(\\sigma_{d} \\left(I_{c} + I_{d}\\right) - t_{dd}\\right)\\right) + \\left(I_{c} + I_{d}\\right)^{2} \\left(S_{c} \\sigma_{d} + S_{d} \\sigma_{d} - p_{dc}\\right) + \\left(I_{c} + I_{d}\\right) \\left(2 I_{c} p_{cc} + I_{d} p_{cd} - I_{d} \\left(S_{c} \\sigma_{d} + S_{d} \\sigma_{d} - p_{dc}\\right) - S_{c} \\left(\\sigma_{c} \\left(S_{c} + S_{d}\\right) - t_{cc}\\right) - S_{d} \\left(\\sigma_{c} \\left(S_{c} + S_{d}\\right) - t_{cd}\\right)\\right)\\right)}{\\left(I_{c} + I_{d}\\right)^{2}} & \\frac{I_{c}^{3} S_{c} \\sigma_{d} + I_{c}^{3} S_{d} \\sigma_{d} + I_{c}^{3} p_{cc} - I_{c}^{3} p_{dc} + 2 I_{c}^{2} I_{d} S_{c} \\sigma_{d} + 2 I_{c}^{2} I_{d} S_{d} \\sigma_{d} + 2 I_{c}^{2} I_{d} p_{cd} - 2 I_{c}^{2} I_{d} p_{dd} - I_{c}^{2} S_{c}^{2} \\sigma_{c} - 2 I_{c}^{2} S_{c} S_{d} \\sigma_{c} + I_{c}^{2} S_{c} t_{cc} - I_{c}^{2} S_{c} t_{dc} - I_{c}^{2} S_{d}^{2} \\sigma_{c} + I_{c}^{2} S_{d} t_{cd} - I_{c}^{2} S_{d} t_{dd} + I_{c}^{2} \\gamma + I_{c} I_{d}^{2} S_{c} \\sigma_{d} + I_{c} I_{d}^{2} S_{d} \\sigma_{d} + I_{c} I_{d}^{2} p_{cd} - I_{c} I_{d}^{2} p_{dd} + 2 I_{c} I_{d} \\gamma + I_{d}^{2} \\gamma}{I_{c}^{2} + 2 I_{c} I_{d} + I_{d}^{2}}\\end{matrix}\\right]\n"
     ]
    }
   ],
   "source": [
    "J_F = F.jacobian([I_c, I_d])\n",
    "J_V = V.jacobian([I_c, I_d])\n",
    "\n",
    "print(f'Jacobiano de los Flujos de entrada a la enfermedad:')\n",
    "sym.print_latex(sym.simplify(J_F))\n",
    "print('\\n')\n",
    "print(f'Jacobiano de los Flujos dentro de la enfermedad y de salidad:')\n",
    "sym.print_latex(sym.simplify(J_V))"
   ]
  },
  {
   "cell_type": "markdown",
   "metadata": {},
   "source": [
    "$$ J_{F} = \\left[\\begin{matrix}S_{c} \\alpha \\beta & S_{c} \\beta\\\\S_{d} \\alpha \\beta & S_{d} \\beta\\end{matrix}\\right] $$\n",
    "\n",
    "$$ J_{V} = \\left[\\begin{matrix}\\frac{- I_{c}^{2} I_{d} S_{c} \\sigma_{d} - I_{c}^{2} I_{d} S_{d} \\sigma_{d} - I_{c}^{2} I_{d} p_{cc} + I_{c}^{2} I_{d} p_{dc} + I_{c}^{2} \\gamma - 2 I_{c} I_{d}^{2} S_{c} \\sigma_{d} - 2 I_{c} I_{d}^{2} S_{d} \\sigma_{d} - 2 I_{c} I_{d}^{2} p_{cc} + 2 I_{c} I_{d}^{2} p_{dc} + 2 I_{c} I_{d} \\gamma - I_{d}^{3} S_{c} \\sigma_{d} - I_{d}^{3} S_{d} \\sigma_{d} - I_{d}^{3} p_{cd} + I_{d}^{3} p_{dd} + I_{d}^{2} S_{c}^{2} \\sigma_{c} + 2 I_{d}^{2} S_{c} S_{d} \\sigma_{c} - I_{d}^{2} S_{c} t_{cc} + I_{d}^{2} S_{c} t_{dc} + I_{d}^{2} S_{d}^{2} \\sigma_{c} - I_{d}^{2} S_{d} t_{cd} + I_{d}^{2} S_{d} t_{dd} + I_{d}^{2} \\gamma}{I_{c}^{2} + 2 I_{c} I_{d} + I_{d}^{2}} & \\frac{I_{c} \\left(- I_{c} \\left(I_{c} p_{cc} + I_{d} p_{cd} - S_{c} \\left(\\sigma_{c} \\left(S_{c} + S_{d}\\right) - t_{cc}\\right) - S_{d} \\left(\\sigma_{c} \\left(S_{c} + S_{d}\\right) - t_{cd}\\right)\\right) - I_{d} \\left(I_{c} p_{dc} + I_{d} p_{dd} - S_{c} \\left(\\sigma_{d} \\left(I_{c} + I_{d}\\right) - t_{dc}\\right) - S_{d} \\left(\\sigma_{d} \\left(I_{c} + I_{d}\\right) - t_{dd}\\right)\\right) - p_{cd} \\left(I_{c} + I_{d}\\right)^{2} + \\left(I_{c} + I_{d}\\right) \\left(I_{c} p_{cd} + I_{c} p_{dc} + I_{d} p_{dd} - I_{d} \\left(S_{c} \\sigma_{d} + S_{d} \\sigma_{d} - p_{dd}\\right) - S_{c} \\left(\\sigma_{d} \\left(I_{c} + I_{d}\\right) - t_{dc}\\right) - S_{d} \\left(\\sigma_{d} \\left(I_{c} + I_{d}\\right) - t_{dd}\\right)\\right)\\right)}{\\left(I_{c} + I_{d}\\right)^{2}}\\\\\\frac{I_{d} \\left(- I_{c} \\left(I_{c} p_{cc} + I_{d} p_{cd} - S_{c} \\left(\\sigma_{c} \\left(S_{c} + S_{d}\\right) - t_{cc}\\right) - S_{d} \\left(\\sigma_{c} \\left(S_{c} + S_{d}\\right) - t_{cd}\\right)\\right) - I_{d} \\left(I_{c} p_{dc} + I_{d} p_{dd} - S_{c} \\left(\\sigma_{d} \\left(I_{c} + I_{d}\\right) - t_{dc}\\right) - S_{d} \\left(\\sigma_{d} \\left(I_{c} + I_{d}\\right) - t_{dd}\\right)\\right) + \\left(I_{c} + I_{d}\\right)^{2} \\left(S_{c} \\sigma_{d} + S_{d} \\sigma_{d} - p_{dc}\\right) + \\left(I_{c} + I_{d}\\right) \\left(2 I_{c} p_{cc} + I_{d} p_{cd} - I_{d} \\left(S_{c} \\sigma_{d} + S_{d} \\sigma_{d} - p_{dc}\\right) - S_{c} \\left(\\sigma_{c} \\left(S_{c} + S_{d}\\right) - t_{cc}\\right) - S_{d} \\left(\\sigma_{c} \\left(S_{c} + S_{d}\\right) - t_{cd}\\right)\\right)\\right)}{\\left(I_{c} + I_{d}\\right)^{2}} & \\frac{I_{c}^{3} S_{c} \\sigma_{d} + I_{c}^{3} S_{d} \\sigma_{d} + I_{c}^{3} p_{cc} - I_{c}^{3} p_{dc} + 2 I_{c}^{2} I_{d} S_{c} \\sigma_{d} + 2 I_{c}^{2} I_{d} S_{d} \\sigma_{d} + 2 I_{c}^{2} I_{d} p_{cd} - 2 I_{c}^{2} I_{d} p_{dd} - I_{c}^{2} S_{c}^{2} \\sigma_{c} - 2 I_{c}^{2} S_{c} S_{d} \\sigma_{c} + I_{c}^{2} S_{c} t_{cc} - I_{c}^{2} S_{c} t_{dc} - I_{c}^{2} S_{d}^{2} \\sigma_{c} + I_{c}^{2} S_{d} t_{cd} - I_{c}^{2} S_{d} t_{dd} + I_{c}^{2} \\gamma + I_{c} I_{d}^{2} S_{c} \\sigma_{d} + I_{c} I_{d}^{2} S_{d} \\sigma_{d} + I_{c} I_{d}^{2} p_{cd} - I_{c} I_{d}^{2} p_{dd} + 2 I_{c} I_{d} \\gamma + I_{d}^{2} \\gamma}{I_{c}^{2} + 2 I_{c} I_{d} + I_{d}^{2}}\\end{matrix}\\right] $$\n",
    "\n",
    "\n"
   ]
  },
  {
   "cell_type": "code",
   "execution_count": 7,
   "metadata": {},
   "outputs": [
    {
     "name": "stdout",
     "output_type": "stream",
     "text": [
      "Jacobiano de F en el DFE:\n",
      "\\left[\\begin{matrix}S_{c} \\alpha \\beta & S_{c} \\beta\\\\S_{d} \\alpha \\beta & S_{d} \\beta\\end{matrix}\\right]\n",
      "\n",
      "Jacobiano de V en el DFE:\n",
      "\\left[\\begin{matrix}\\gamma & 0\\\\0 & - S_{c} t_{dc} + S_{c} \\left(- \\sigma_{c} \\left(S_{c} + S_{d}\\right) + t_{cc}\\right) - S_{d} t_{dd} + S_{d} \\left(- \\sigma_{c} \\left(S_{c} + S_{d}\\right) + t_{cd}\\right) + \\gamma\\end{matrix}\\right]\n",
      "\n",
      "Matriz de la próxima generación (NGM):\n",
      "\\left[\\begin{matrix}\\frac{S_{c} \\alpha \\beta}{\\gamma} & \\frac{S_{c} \\beta}{- S_{c} t_{dc} + S_{c} \\left(- \\sigma_{c} \\left(S_{c} + S_{d}\\right) + t_{cc}\\right) - S_{d} t_{dd} + S_{d} \\left(- \\sigma_{c} \\left(S_{c} + S_{d}\\right) + t_{cd}\\right) + \\gamma}\\\\\\frac{S_{d} \\alpha \\beta}{\\gamma} & \\frac{S_{d} \\beta}{- S_{c} t_{dc} + S_{c} \\left(- \\sigma_{c} \\left(S_{c} + S_{d}\\right) + t_{cc}\\right) - S_{d} t_{dd} + S_{d} \\left(- \\sigma_{c} \\left(S_{c} + S_{d}\\right) + t_{cd}\\right) + \\gamma}\\end{matrix}\\right]\n"
     ]
    }
   ],
   "source": [
    "J_F = J_F.subs([(I_d, 0), (I_c, 0)])\n",
    "J_V = J_V.subs([(I_d, 0), (I_c, 0)])\n",
    "\n",
    "NGM = J_F*J_V**-1\n",
    "print('Jacobiano de F en el DFE:')\n",
    "sym.print_latex(J_F)\n",
    "\n",
    "print('\\nJacobiano de V en el DFE:')\n",
    "sym.print_latex(J_V)\n",
    "\n",
    "print('\\nMatriz de la próxima generación (NGM):')\n",
    "sym.print_latex(NGM)"
   ]
  },
  {
   "cell_type": "markdown",
   "metadata": {},
   "source": [
    "$$ J_{F}(DFE) = \\left[\\begin{matrix}S_{c} \\alpha \\beta & S_{c} \\beta\\\\S_{d} \\alpha \\beta & S_{d} \\beta\\end{matrix}\\right] $$\n",
    "\n",
    "$$ J_{V}(DFE) = \\left[\\begin{matrix}\\gamma & 0\\\\0 & - S_{c} t_{dc} + S_{c} \\left(- \\sigma_{c} \\left(S_{c} + S_{d}\\right) + t_{cc}\\right) - S_{d} t_{dd} + S_{d} \\left(- \\sigma_{c} \\left(S_{c} + S_{d}\\right) + t_{cd}\\right) + \\gamma\\end{matrix}\\right] $$\n",
    "\n",
    "Matriz de la próxima generación:\n",
    "$$ NGM = \\left[\\begin{matrix}\\frac{S_{c} \\alpha \\beta}{\\gamma} & \\frac{S_{c} \\beta}{- S_{c} t_{dc} + S_{c} \\left(- \\sigma_{c} \\left(S_{c} + S_{d}\\right) + t_{cc}\\right) - S_{d} t_{dd} + S_{d} \\left(- \\sigma_{c} \\left(S_{c} + S_{d}\\right) + t_{cd}\\right) + \\gamma}\\\\\\frac{S_{d} \\alpha \\beta}{\\gamma} & \\frac{S_{d} \\beta}{- S_{c} t_{dc} + S_{c} \\left(- \\sigma_{c} \\left(S_{c} + S_{d}\\right) + t_{cc}\\right) - S_{d} t_{dd} + S_{d} \\left(- \\sigma_{c} \\left(S_{c} + S_{d}\\right) + t_{cd}\\right) + \\gamma}\\end{matrix}\\right]\n",
    " $$\n",
    "\n",
    "\n"
   ]
  },
  {
   "cell_type": "code",
   "execution_count": 14,
   "metadata": {},
   "outputs": [
    {
     "name": "stdout",
     "output_type": "stream",
     "text": [
      "Valores propios y su multiplicidad algebraica de la NGM:\n",
      "\\left\\{ 0 : 1, \\  \\frac{\\beta \\left(S_{c}^{3} \\alpha \\sigma_{c} + 2 S_{c}^{2} S_{d} \\alpha \\sigma_{c} - S_{c}^{2} \\alpha t_{cc} + S_{c}^{2} \\alpha t_{dc} + S_{c} S_{d}^{2} \\alpha \\sigma_{c} - S_{c} S_{d} \\alpha t_{cd} + S_{c} S_{d} \\alpha t_{dd} - S_{c} \\alpha \\gamma - S_{d} \\gamma\\right)}{\\gamma \\left(S_{c}^{2} \\sigma_{c} + 2 S_{c} S_{d} \\sigma_{c} - S_{c} t_{cc} + S_{c} t_{dc} + S_{d}^{2} \\sigma_{c} - S_{d} t_{cd} + S_{d} t_{dd} - \\gamma\\right)} : 1\\right\\}\n",
      "\n",
      "R0 cuando toda la población es cuidadosa:\n",
      "\\frac{\\beta \\left(- \\alpha \\gamma + \\alpha \\sigma_{c} - \\alpha t_{cc} + \\alpha t_{dc}\\right)}{\\gamma \\left(- \\gamma + \\sigma_{c} - t_{cc} + t_{dc}\\right)}\n",
      "\n",
      "R0 cuando toda la población es descuidada\n",
      "- \\frac{\\beta}{- \\gamma + \\sigma_{c} - t_{cd} + t_{dd}}\n"
     ]
    }
   ],
   "source": [
    "eigvals_NGM = NGM.eigenvals()\n",
    "print('Valores propios y su multiplicidad algebraica de la NGM:')\n",
    "sym.print_latex(eigvals_NGM)\n",
    "\n",
    "R0 = list(eigvals_NGM.keys())[0]\n",
    "\n",
    "R0_Sc = R0.subs([(S_c, 1), (S_d, 0)])\n",
    "R0_Sd = R0.subs([(S_c, 0), (S_d, 1)])\n",
    "\n",
    "print('\\nR0 cuando toda la población es cuidadosa:')\n",
    "sym.print_latex(R0_Sc)\n",
    "\n",
    "print('\\nR0 cuando toda la población es descuidada')\n",
    "sym.print_latex(R0_Sd)"
   ]
  },
  {
   "cell_type": "markdown",
   "metadata": {},
   "source": [
    "Valores propios y su multiplicidad algebraica de la NGM:\n",
    "$$ \\left\\{ 0 : 1, \\  \\frac{\\beta \\left(S_{c}^{3} \\alpha \\sigma_{c} + 2 S_{c}^{2} S_{d} \\alpha \\sigma_{c} - S_{c}^{2} \\alpha t_{cc} + S_{c}^{2} \\alpha t_{dc} + S_{c} S_{d}^{2} \\alpha \\sigma_{c} - S_{c} S_{d} \\alpha t_{cd} + S_{c} S_{d} \\alpha t_{dd} - S_{c} \\alpha \\gamma - S_{d} \\gamma\\right)}{\\gamma \\left(S_{c}^{2} \\sigma_{c} + 2 S_{c} S_{d} \\sigma_{c} - S_{c} t_{cc} + S_{c} t_{dc} + S_{d}^{2} \\sigma_{c} - S_{d} t_{cd} + S_{d} t_{dd} - \\gamma\\right)} : 1\\right\\} $$\n",
    "\n",
    "$R0$ cuando se tiene toda la población de susceptibles en las personas cuidadosas:\n",
    "$$ R0(S_{c}=1) = \\frac{\\beta \\left(- \\alpha \\gamma + \\alpha \\sigma_{c} - \\alpha t_{cc} + \\alpha t_{dc}\\right)}{\\gamma \\left(- \\gamma + \\sigma_{c} - t_{cc} + t_{dc}\\right)} $$\n",
    "\n",
    "$R0$ cuando se tiene toda la población de susceptibles en las personas descuidadas:\n",
    "$$ R0(S_{d}=1) = - \\frac{\\beta}{- \\gamma + \\sigma_{c} - t_{cd} + t_{dd}} $$"
   ]
  }
 ],
 "metadata": {
  "kernelspec": {
   "display_name": "Python 3",
   "language": "python",
   "name": "python3"
  },
  "language_info": {
   "codemirror_mode": {
    "name": "ipython",
    "version": 3
   },
   "file_extension": ".py",
   "mimetype": "text/x-python",
   "name": "python",
   "nbconvert_exporter": "python",
   "pygments_lexer": "ipython3",
   "version": "3.12.0"
  },
  "orig_nbformat": 4
 },
 "nbformat": 4,
 "nbformat_minor": 2
}
